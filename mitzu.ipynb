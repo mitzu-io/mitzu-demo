{
  "cells": [
    {
      "cell_type": "markdown",
      "id": "a01a4516",
      "metadata": {
        "cell_id": "1c464dcc-ba13-4568-a866-c2d86875dd29",
        "deepnote_cell_height": 62.5,
        "deepnote_cell_type": "markdown",
        "tags": []
      },
      "source": [
        "### Install `Mitzu` With `pip`"
      ]
    },
    {
      "cell_type": "code",
      "execution_count": 4,
      "id": "f2eed9a9",
      "metadata": {
        "cell_id": "36d72bae-577a-4129-ad53-c6552f716241",
        "deepnote_cell_height": 668.765625,
        "deepnote_cell_type": "code",
        "deepnote_to_be_reexecuted": false,
        "execution_millis": 6024,
        "execution_start": 1647772052141,
        "output_cleared": true,
        "source_hash": "ccbe2f8d",
        "tags": []
      },
      "outputs": [],
      "source": [
        "!pip install mitzu"
      ]
    },
    {
      "cell_type": "markdown",
      "id": "78e42a18",
      "metadata": {
        "cell_id": "b967e348-d037-4897-adb7-b09891dbb5c1",
        "deepnote_cell_height": 246.890625,
        "deepnote_cell_type": "markdown",
        "tags": []
      },
      "source": [
        "### Initialize a `Mitzu` Project\n",
        "\n",
        "> Mitzu can connect any cloud warehouse like: `Snowflake`, `Delta Lake`, `Redshift`, `BigQuery`, etc. <br/>\n",
        "> In this demo however we use a `.parquet` file which is loaded to a local SQLite database <br/>\n",
        "> This datasource contains around 1M rows user behavioural data.\n",
        "\n",
        "- Import `mitzu` to your notebook.\n",
        "- Create an `EventDataSource`.\n",
        "- Call the `init_notebook_project` method with the created datasource.\n"
      ]
    },
    {
      "cell_type": "code",
      "execution_count": 5,
      "id": "8de1c130",
      "metadata": {
        "cell_id": "1192f1be-274d-4820-a804-f4d765b155d2",
        "deepnote_cell_height": 99,
        "deepnote_cell_type": "code",
        "deepnote_to_be_reexecuted": false,
        "execution_millis": 247,
        "execution_start": 1647772058217,
        "output_cleared": true,
        "source_hash": "280b1280",
        "tags": []
      },
      "outputs": [],
      "source": [
        "import pandas as pd\n",
        "pd.read_parquet(\"/work/sample_user_event_data.parquet\").head()"
      ]
    },
    {
      "cell_type": "code",
      "execution_count": 6,
      "id": "fbcdce8b",
      "metadata": {
        "cell_id": "656d511d-919a-4408-9a54-18dbde84f315",
        "deepnote_cell_height": 383.265625,
        "deepnote_cell_type": "code",
        "deepnote_output_heights": [
          null,
          21.1875
        ],
        "deepnote_to_be_reexecuted": false,
        "execution_millis": 29337,
        "execution_start": 1647772058511,
        "output_cleared": false,
        "source_hash": "cebb8bfa",
        "tags": []
      },
      "outputs": [        
      ],
      "source": [
        "from mitzu import *\n",
        "\n",
        "sample_data_source = EventDataSource(        \n",
        "    connection=Connection(\n",
        "        connection_type=ConnectionType.FILE,\n",
        "        connection_params={ \n",
        "                \"file_type\": \"parquet\",\n",
        "                \"path\": \"/work/sample_user_event_data.parquet\"\n",
        "        }\n",
        "    ),\n",
        ")\n",
        "\n",
        "init_notebook_project(sample_data_source)"
      ]
    },
    {
      "cell_type": "markdown",
      "id": "c41bde75",
      "metadata": {
        "cell_id": "fb9579ad-5306-4214-941a-9b14e0a9f697",
        "deepnote_cell_height": 296.890625,
        "deepnote_cell_type": "markdown",
        "tags": []
      },
      "source": [
        "### Using `Mitzu`\n",
        "\n",
        "`mitzu` helps you query your behavioral data extremely fast by leveraging notebook capabilities.\n",
        "\n",
        "**Try it out yourself:**\n",
        "\n",
        "- Just press `shift+enter` on the next notebook command.\n",
        "\n",
        "It will show you a `segmentation` metric, about how many users did `app_install` in the past.\n",
        "\n",
        "**Tips:**\n",
        "\n",
        "- Hover over the chart with the mouse, to see more information."
      ]
    },
    {
      "cell_type": "code",
      "execution_count": null,
      "id": "0a906b43",
      "metadata": {
        "cell_id": "0694f6a8-cd84-43e1-b0c1-87a2488f5200",
        "deepnote_cell_height": 81,
        "deepnote_cell_type": "code",
        "deepnote_output_heights": [
          527,
          2
        ],
        "deepnote_to_be_reexecuted": false,
        "execution_millis": 2891,
        "execution_start": 1647771660018,
        "output_cleared": true,
        "source_hash": "493b231c",
        "tags": []
      },
      "outputs": [],
      "source": [
        "app_install"
      ]
    },
    {
      "cell_type": "markdown",
      "id": "8f719d8e",
      "metadata": {
        "cell_id": "44a8a4e4-3c4e-48e8-9845-9b3484a2d395",
        "deepnote_cell_height": 333.1875,
        "deepnote_cell_type": "markdown",
        "tags": []
      },
      "source": [
        "### User Segmenation With Filtering\n",
        "\n",
        "The `app_install` has a property called `device_platform`. This property states which platform the install event happened.\n",
        "In this test dataset an `app install` event can happen on the following platforms:\n",
        "- iOS  \n",
        "- macOS\n",
        "- Windows\n",
        "\n",
        "Filtering on an event segment in mitzu is done by simply adding the property and the enum after the event.\n",
        "\n",
        "**Tips**\n",
        "- Put the editor cursor anywhere in this segmentation definition and press `tab` to use autocomplete."
      ]
    },
    {
      "cell_type": "code",
      "execution_count": null,
      "id": "e5ae6b62",
      "metadata": {
        "cell_id": "a14c52b3-6cb3-41ce-be99-5275b13ce573",
        "deepnote_cell_height": 81,
        "deepnote_cell_type": "code",
        "deepnote_output_heights": [
          527,
          2
        ],
        "deepnote_to_be_reexecuted": false,
        "execution_millis": 555,
        "execution_start": 1647771670071,
        "output_cleared": true,
        "source_hash": "a8b005e3",
        "tags": []
      },
      "outputs": [],
      "source": [
        "app_install.device_platform.is_ios"
      ]
    },
    {
      "cell_type": "markdown",
      "id": "17088558",
      "metadata": {
        "cell_id": "2d1a73a1-1a74-406f-b6a0-d8bb3ea09817",
        "deepnote_cell_height": 234.984375,
        "deepnote_cell_type": "markdown",
        "tags": []
      },
      "source": [
        "### Creating a Simple Funnel Metric\n",
        "\n",
        "In `mitzu` a funnel is created by the `>>` operator between two segments of user events. <br/>\n",
        "In the next command you will see `conversion rate over time` of users that installed the app and then also launched it.\n",
        "\n",
        "**Tips:**\n",
        "\n",
        "- Try exteding the funnel with another step by adding another `>>` and an event. You can use the `workspace_opened` evnet for example.\n",
        "- Don't forget to use the notebook code completion feature. Just press `tab`."
      ]
    },
    {
      "cell_type": "code",
      "execution_count": null,
      "id": "f91e9c33",
      "metadata": {
        "cell_id": "b9fa32da-3328-47e2-803b-e0be4cfce65a",
        "deepnote_cell_height": 81,
        "deepnote_cell_type": "code",
        "deepnote_output_heights": [
          527,
          2
        ],
        "deepnote_to_be_reexecuted": false,
        "execution_millis": 5973,
        "execution_start": 1647771675556,
        "output_cleared": true,
        "source_hash": "c7127bc1",
        "tags": []
      },
      "outputs": [],
      "source": [
        "app_install >> app_launched"
      ]
    },
    {
      "cell_type": "markdown",
      "id": "1b49a3e0",
      "metadata": {
        "cell_id": "6fe730cf-8b36-408b-b46f-7944bfc3c9d7",
        "deepnote_cell_height": 122.796875,
        "deepnote_cell_type": "markdown",
        "tags": []
      },
      "source": [
        "### Finetuning The Metrics\n",
        "\n",
        "You can configure the funnel metric by calling `.config(...)` method on it. <br/>\n",
        "You can find more information about what configuration are supported in our documentation page."
      ]
    },
    {
      "cell_type": "code",
      "execution_count": null,
      "id": "d1804257",
      "metadata": {
        "cell_id": "b8349105-1b00-4b17-a61f-da294db070ab",
        "deepnote_cell_height": 189,
        "deepnote_cell_type": "code",
        "deepnote_to_be_reexecuted": false,
        "execution_start": 1647771688247,
        "output_cleared": true,
        "source_hash": "6246241d",
        "tags": []
      },
      "outputs": [],
      "source": [
        "(app_install >> workspace_opened).config(\n",
        "    conv_window=\"14 day\",\n",
        "    time_group=\"week\",\n",
        "    start_dt=\"2021-01-01\",\n",
        "    end_dt=\"2022-01-01\",\n",
        "    group_by=app_launched.device_platform, # You can only use group by on the first step of the funnel\n",
        ")"
      ]
    },
    {
      "cell_type": "markdown",
      "id": "d5e16359",
      "metadata": {
        "cell_id": "1643f467-d51d-4630-9d52-bb84e99e8445",
        "deepnote_cell_height": 122.796875,
        "deepnote_cell_type": "markdown",
        "tags": []
      },
      "source": [
        "### Printing The SQL\n",
        "\n",
        "Under the hood `mitzu` generates SQL code that is executed on your warehouse. <br/>\n",
        "You can peek into this SQL by calling the `.print_sql()` method on the funnel or segmentation metric definition.\n",
        "\n"
      ]
    },
    {
      "cell_type": "code",
      "execution_count": 7,
      "id": "4916b391",
      "metadata": {
        "cell_id": "00726c41-a273-4a57-b887-e2062819de3b",
        "deepnote_cell_height": 225,
        "deepnote_cell_type": "code",
        "deepnote_to_be_reexecuted": false,
        "execution_millis": 13,
        "execution_start": 1647772098212,
        "output_cleared": true,
        "source_hash": "c49ae45a",
        "tags": []
      },
      "outputs": [],
      "source": [
        "metric = (app_install >> workspace_opened).config(\n",
        "    conv_window=\"14 day\",\n",
        "    time_group=\"week\",\n",
        "    start_dt=\"2021-01-01\",\n",
        "    end_dt=\"2022-01-01\",\n",
        "    group_by=app_launched.device_platform, # You can only use group by on the first step of the funnel\n",
        ")\n",
        "\n",
        "metric.print_sql()"
      ]
    },
    {
      "cell_type": "markdown",
      "id": "8d2fc9ae",
      "metadata": {
        "cell_id": "c966da95-defd-4074-b227-0f20f208470e",
        "deepnote_cell_height": 100.390625,
        "deepnote_cell_type": "markdown",
        "tags": []
      },
      "source": [
        "### Playground\n",
        "\n",
        "**Try it out yourself...**"
      ]
    },
    {
      "cell_type": "code",
      "execution_count": 1,
      "id": "e238b572",
      "metadata": {
        "cell_id": "fc1f64f6-5029-4783-9cc2-a73c9200abe2",
        "deepnote_cell_height": 81,
        "deepnote_cell_type": "code",
        "deepnote_to_be_reexecuted": false,
        "execution_millis": 13,
        "execution_start": 1647772035331,
        "source_hash": "b623e53d",
        "tags": []
      },
      "outputs": [],
      "source": []
    },
    {
      "cell_type": "code",
      "execution_count": null,
      "id": "b80e83a7",
      "metadata": {
        "cell_id": "df2f663a-ecda-4ad6-8ae3-c039de43ae93",
        "deepnote_cell_height": 66,
        "deepnote_cell_type": "code",
        "tags": []
      },
      "outputs": [],
      "source": []
    },
    {
      "cell_type": "markdown",
      "id": "ed7dc21f",
      "metadata": {
        "created_in_deepnote_cell": true,
        "deepnote_cell_type": "markdown",
        "tags": []
      },
      "source": [
        "<a style='text-decoration:none;line-height:16px;display:flex;color:#5B5B62;padding:10px;justify-content:end;' href='https://deepnote.com?utm_source=created-in-deepnote-cell&projectId=8aa15d53-636d-49fc-997e-a57e015b5bd3' target=\"_blank\">\n",
        "<img alt='Created in deepnote.com' style='display:inline;max-height:16px;margin:0px;margin-right:7.5px;' src='data:image/svg+xml;base64,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' > </img>\n",
        "Created in <span style='font-weight:600;margin-left:4px;'>Deepnote</span></a>"
      ]
    }
  ],
  "metadata": {
    "deepnote": {},
    "deepnote_execution_queue": [],
    "deepnote_notebook_id": "9586b514-9e93-4e25-a547-724a59229af0",
    "kernelspec": {
      "display_name": "Python 3 (ipykernel)",
      "language": "python",
      "name": "python3"
    },
    "language_info": {
      "codemirror_mode": {
        "name": "ipython",
        "version": 3
      },
      "file_extension": ".py",
      "mimetype": "text/x-python",
      "name": "python",
      "nbconvert_exporter": "python",
      "pygments_lexer": "ipython3",
      "version": "3.10.2"
    }
  },
  "nbformat": 4,
  "nbformat_minor": 5
}
