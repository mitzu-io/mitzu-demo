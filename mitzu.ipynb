{
  "cells": [
    {
      "cell_type": "markdown",
      "id": "9af5da81",
      "metadata": {
        "cell_id": "1c464dcc-ba13-4568-a866-c2d86875dd29",
        "deepnote_cell_height": 62.5,
        "deepnote_cell_type": "markdown",
        "tags": []
      },
      "source": [
        "### Install `Mitzu` With `pip`"
      ]
    },
    {
      "cell_type": "code",
      "execution_count": null,
      "id": "afc87f27",
      "metadata": {
        "cell_id": "36d72bae-577a-4129-ad53-c6552f716241",
        "deepnote_cell_height": 66,
        "deepnote_cell_type": "code",
        "tags": []
      },
      "outputs": [],
      "source": [
        "!pip install mitzu"
      ]
    },
    {
      "cell_type": "markdown",
      "id": "1f1bb253",
      "metadata": {
        "cell_id": "b967e348-d037-4897-adb7-b09891dbb5c1",
        "deepnote_cell_height": 246.890625,
        "deepnote_cell_type": "markdown",
        "tags": []
      },
      "source": [
        "### Initialize a `Mitzu` Project\n",
        "\n",
        "> Mitzu can connect any cloud warehouse like: `Snowflake`, `Delta Lake`, `Redshift`, `BigQuery`, etc. <br/>\n",
        "> In this demo however we use a `.parquet` file which is loaded to a local SQLite database <br/>\n",
        "> This datasource contains around 1M rows user behavioural data.\n",
        "\n",
        "- Import `mitzu` to your notebook.\n",
        "- Create an `EventDataSource`.\n",
        "- Call the `init_notebook_project` method with the created datasource.\n"
      ]
    },
    {
      "cell_type": "code",
      "execution_count": 7,
      "id": "599c474a",
      "metadata": {
        "cell_id": "1192f1be-274d-4820-a804-f4d765b155d2",
        "deepnote_cell_height": 99,
        "deepnote_cell_type": "code",
        "deepnote_to_be_reexecuted": false,
        "execution_millis": 291,
        "execution_start": 1647770536892,
        "output_cleared": true,
        "source_hash": "397b2cbe",
        "tags": []
      },
      "outputs": [],
      "source": [
        "import pandas as pd\n",
        "pd.read_parquet(\"/work/sample_user_event_data.snappy.parquet\").head()"
      ]
    },
    {
      "cell_type": "code",
      "execution_count": null,
      "id": "c5773b72",
      "metadata": {
        "cell_id": "656d511d-919a-4408-9a54-18dbde84f315",
        "deepnote_cell_height": 246,
        "deepnote_cell_type": "code",
        "tags": []
      },
      "outputs": [],
      "source": [
        "from mitzu import *\n",
        "\n",
        "sample_data_source = EventDataSource(        \n",
        "    connection=Connection(\n",
        "        connection_type=ConnectionType.FILE,\n",
        "        connection_params={\"file_type\": \"parquet\"},\n",
        "        url=\"/work/sample_user_event_data.parquet\",\n",
        "    ),\n",
        ")\n",
        "\n",
        "init_notebook_project(sample_data_source)"
      ]
    },
    {
      "cell_type": "markdown",
      "id": "420b98b3",
      "metadata": {
        "cell_id": "fb9579ad-5306-4214-941a-9b14e0a9f697",
        "deepnote_cell_height": 296.890625,
        "deepnote_cell_type": "markdown",
        "tags": []
      },
      "source": [
        "### Using `mitzu`\n",
        "\n",
        "`mitzu` helps you query your behavioral data extremely fast by leveraging notebook capabilities.\n",
        "\n",
        "**Try it out yourself:**\n",
        "\n",
        "- Just press `shift+enter` on the next notebook command.\n",
        "\n",
        "It will show you a `segmentation` metric, about how many users did `app_install` in the past.\n",
        "\n",
        "**Tips:**\n",
        "\n",
        "- Hover over the chart with the mouse, to see more information."
      ]
    },
    {
      "cell_type": "code",
      "execution_count": null,
      "id": "b26f28cf",
      "metadata": {
        "cell_id": "0694f6a8-cd84-43e1-b0c1-87a2488f5200",
        "deepnote_cell_height": 66,
        "deepnote_cell_type": "code",
        "tags": []
      },
      "outputs": [],
      "source": [
        "app_install"
      ]
    },
    {
      "cell_type": "markdown",
      "id": "df6442ea",
      "metadata": {
        "cell_id": "44a8a4e4-3c4e-48e8-9845-9b3484a2d395",
        "deepnote_cell_height": 333.1875,
        "deepnote_cell_type": "markdown",
        "tags": []
      },
      "source": [
        "### User Segmenation With Filtering\n",
        "\n",
        "The `app_install` has a property called `device_platform`. This property states which platform the install event happened.\n",
        "In this test dataset an `app install` event can happen on the following platforms:\n",
        "- iOS  \n",
        "- macOS\n",
        "- Windows\n",
        "\n",
        "Filtering on an event segment in mitzu is done by simply adding the property and the enum after the event.\n",
        "\n",
        "**Tips**\n",
        "- Put the editor cursor anywhere in this segmentation definition and press `tab` to use autocomplete."
      ]
    },
    {
      "cell_type": "code",
      "execution_count": null,
      "id": "9a370161",
      "metadata": {
        "cell_id": "a14c52b3-6cb3-41ce-be99-5275b13ce573",
        "deepnote_cell_height": 66,
        "deepnote_cell_type": "code",
        "tags": []
      },
      "outputs": [],
      "source": [
        "app_install.device_platform.is_ios"
      ]
    },
    {
      "cell_type": "markdown",
      "id": "09ed4e19",
      "metadata": {
        "cell_id": "2d1a73a1-1a74-406f-b6a0-d8bb3ea09817",
        "deepnote_cell_height": 234.984375,
        "deepnote_cell_type": "markdown",
        "tags": []
      },
      "source": [
        "### Creating a Simple Funnel Metric\n",
        "\n",
        "In `mitzu` a funnel is created by the `>>` operator between two segments of user events. <br/>\n",
        "In the next command you will see `conversion rate over time` of users that installed the app and then also launched it.\n",
        "\n",
        "**Tips:**\n",
        "\n",
        "- Try exteding the funnel with another step by adding another `>>` and an event. You can use the `workspace_opened` evnet for example.\n",
        "- Don't forget to use the notebook code completion feature. Just press `tab`."
      ]
    },
    {
      "cell_type": "code",
      "execution_count": null,
      "id": "4ba02038",
      "metadata": {
        "cell_id": "b9fa32da-3328-47e2-803b-e0be4cfce65a",
        "deepnote_cell_height": 66,
        "deepnote_cell_type": "code",
        "tags": []
      },
      "outputs": [],
      "source": [
        "app_install >> app_launched"
      ]
    },
    {
      "cell_type": "markdown",
      "id": "da7f9754",
      "metadata": {
        "cell_id": "6fe730cf-8b36-408b-b46f-7944bfc3c9d7",
        "deepnote_cell_height": 228.796875,
        "deepnote_cell_type": "markdown",
        "tags": []
      },
      "source": [
        "### Finetuning The Metrics\n",
        "\n",
        "You can configure the funnel metric by calling `.config(...)` method on it. <br/>\n",
        "You can find more information about what configuration are supported in our documentation page."
      ]
    },
    {
      "cell_type": "code",
      "execution_count": null,
      "id": "c9d953f1",
      "metadata": {
        "cell_id": "b8349105-1b00-4b17-a61f-da294db070ab",
        "deepnote_cell_height": 192,
        "deepnote_cell_type": "code",
        "tags": []
      },
      "outputs": [],
      "source": [
        "(app_install >> app_launched >> workspace_opened).config(\n",
        "    conv_window=\"14 day\",\n",
        "    time_group=\"week\",\n",
        "    start_dt=\"2021-01-01\",\n",
        "    end_dt=\"2022-01-01\",\n",
        "    group_by=app_launched.device_platform, # You can only use group by on the first step of the funnel\n",
        ")"
      ]
    },
    {
      "cell_type": "markdown",
      "id": "2d4db24b",
      "metadata": {
        "cell_id": "c966da95-defd-4074-b227-0f20f208470e",
        "deepnote_cell_height": 100.390625,
        "deepnote_cell_type": "markdown",
        "tags": []
      },
      "source": [
        "### Playground\n",
        "\n",
        "**Try it out yourself...**"
      ]
    },
    {
      "cell_type": "code",
      "execution_count": 8,
      "id": "35f41e80",
      "metadata": {
        "cell_id": "fc1f64f6-5029-4783-9cc2-a73c9200abe2",
        "deepnote_cell_height": 81,
        "deepnote_cell_type": "code",
        "deepnote_to_be_reexecuted": false,
        "execution_millis": 0,
        "execution_start": 1647771103540,
        "source_hash": "4e5cf7f3",
        "tags": []
      },
      "outputs": [],
      "source": []
    },
    {
      "cell_type": "code",
      "execution_count": null,
      "id": "1141666c",
      "metadata": {
        "cell_id": "df2f663a-ecda-4ad6-8ae3-c039de43ae93",
        "deepnote_cell_height": 66,
        "deepnote_cell_type": "code",
        "tags": []
      },
      "outputs": [],
      "source": []
    },
    {
      "cell_type": "markdown",
      "id": "928a163e",
      "metadata": {
        "created_in_deepnote_cell": true,
        "deepnote_cell_type": "markdown",
        "tags": []
      },
      "source": [
        "<a style='text-decoration:none;line-height:16px;display:flex;color:#5B5B62;padding:10px;justify-content:end;' href='https://deepnote.com?utm_source=created-in-deepnote-cell&projectId=c7418232-27fd-4df2-9a47-8466e0bb8d37' target=\"_blank\">\n",
        "<img alt='Created in deepnote.com' style='display:inline;max-height:16px;margin:0px;margin-right:7.5px;' src='data:image/svg+xml;base64,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' > </img>\n",
        "Created in <span style='font-weight:600;margin-left:4px;'>Deepnote</span></a>"
      ]
    }
  ],
  "metadata": {
    "deepnote": {},
    "deepnote_execution_queue": [],
    "deepnote_notebook_id": "9586b514-9e93-4e25-a547-724a59229af0",
    "kernelspec": {
      "display_name": "Python 3 (ipykernel)",
      "language": "python",
      "name": "python3"
    },
    "language_info": {
      "codemirror_mode": {
        "name": "ipython",
        "version": 3
      },
      "file_extension": ".py",
      "mimetype": "text/x-python",
      "name": "python",
      "nbconvert_exporter": "python",
      "pygments_lexer": "ipython3",
      "version": "3.10.2"
    }
  },
  "nbformat": 4,
  "nbformat_minor": 5
}
