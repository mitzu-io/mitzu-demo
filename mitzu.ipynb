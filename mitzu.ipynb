{
 "cells": [
  {
   "cell_type": "code",
   "execution_count": 2,
   "metadata": {
    "ExecuteTime": {
     "end_time": "2022-03-15T20:41:43.860855Z",
     "start_time": "2022-03-15T20:41:43.857544Z"
    },
    "cell_id": "20798824-6fd0-4bd1-b73d-c57d2303efe7",
    "deepnote_cell_height": 609.6875,
    "deepnote_cell_type": "code",
    "deepnote_to_be_reexecuted": false,
    "execution_millis": 3802,
    "execution_start": 1647768646816,
    "source_hash": "ccbe2f8d"
   },
   "outputs": [
    {
     "name": "stdout",
     "output_type": "stream",
     "text": [
      "Collecting mitzu==0.1.5\n",
      "  Downloading mitzu-0.1.5-py3-none-any.whl (17 kB)\n",
      "Requirement already satisfied: plotly<6.0.0,>=5.5.0 in /shared-libs/python3.8/py/lib/python3.8/site-packages (from mitzu==0.1.5) (5.6.0)\n",
      "Requirement already satisfied: sql-formatter<0.7.0,>=0.6.2 in /root/venv/lib/python3.8/site-packages (from mitzu==0.1.5) (0.6.2)\n",
      "Requirement already satisfied: pyarrow<8.0.0,>=7.0.0 in /shared-libs/python3.8/py-core/lib/python3.8/site-packages (from mitzu==0.1.5) (7.0.0)\n",
      "Requirement already satisfied: pandas<2.0.0,>=1.4.1 in /shared-libs/python3.8/py/lib/python3.8/site-packages (from mitzu==0.1.5) (1.4.1)\n",
      "Requirement already satisfied: fastparquet<0.9.0,>=0.8.0 in /root/venv/lib/python3.8/site-packages (from mitzu==0.1.5) (0.8.0)\n",
      "Requirement already satisfied: SQLAlchemy<2.0.0,>=1.4.31 in /shared-libs/python3.8/py-core/lib/python3.8/site-packages (from mitzu==0.1.5) (1.4.32)\n",
      "Requirement already satisfied: fsspec in /root/venv/lib/python3.8/site-packages (from fastparquet<0.9.0,>=0.8.0->mitzu==0.1.5) (2022.2.0)\n",
      "Requirement already satisfied: cramjam>=2.3.0 in /root/venv/lib/python3.8/site-packages (from fastparquet<0.9.0,>=0.8.0->mitzu==0.1.5) (2.5.0)\n",
      "Requirement already satisfied: numpy>=1.18 in /shared-libs/python3.8/py-core/lib/python3.8/site-packages (from fastparquet<0.9.0,>=0.8.0->mitzu==0.1.5) (1.22.3)\n",
      "Requirement already satisfied: pytz>=2020.1 in /shared-libs/python3.8/py-core/lib/python3.8/site-packages (from pandas<2.0.0,>=1.4.1->mitzu==0.1.5) (2021.3)\n",
      "Requirement already satisfied: python-dateutil>=2.8.1 in /shared-libs/python3.8/py-core/lib/python3.8/site-packages (from pandas<2.0.0,>=1.4.1->mitzu==0.1.5) (2.8.2)\n",
      "Requirement already satisfied: six in /shared-libs/python3.8/py-core/lib/python3.8/site-packages (from plotly<6.0.0,>=5.5.0->mitzu==0.1.5) (1.16.0)\n",
      "Requirement already satisfied: tenacity>=6.2.0 in /shared-libs/python3.8/py-core/lib/python3.8/site-packages (from plotly<6.0.0,>=5.5.0->mitzu==0.1.5) (8.0.1)\n",
      "Requirement already satisfied: greenlet!=0.4.17 in /shared-libs/python3.8/py-core/lib/python3.8/site-packages (from SQLAlchemy<2.0.0,>=1.4.31->mitzu==0.1.5) (1.1.2)\n",
      "Installing collected packages: mitzu\n",
      "  Attempting uninstall: mitzu\n",
      "    Found existing installation: mitzu 0.1.4\n",
      "    Uninstalling mitzu-0.1.4:\n",
      "      Successfully uninstalled mitzu-0.1.4\n",
      "Successfully installed mitzu-0.1.5\n",
      "\u001b[33mWARNING: You are using pip version 21.1.1; however, version 22.0.4 is available.\n",
      "You should consider upgrading via the '/root/venv/bin/python -m pip install --upgrade pip' command.\u001b[0m\n"
     ]
    }
   ],
   "source": [
    "!pip install mitzu==0.1.5"
   ]
  },
  {
   "cell_type": "code",
   "execution_count": 3,
   "metadata": {
    "cell_id": "327c728a-e867-4c83-a467-9f17e88c50ab",
    "deepnote_cell_height": 365.265625,
    "deepnote_cell_type": "code",
    "deepnote_output_heights": [
     21.1875,
     21.1875
    ],
    "deepnote_to_be_reexecuted": false,
    "execution_millis": 26739,
    "execution_start": 1647768653235,
    "source_hash": "92b7faca",
    "tags": []
   },
   "outputs": [
    {
     "name": "stdout",
     "output_type": "stream",
     "text": [
      "Found notebook context\n",
      "Initializing project ...\n",
      "Finished project initialization\n"
     ]
    },
    {
     "data": {
      "text/plain": [
       "mitzu.notebook.model_loader._dataset_model"
      ]
     },
     "execution_count": 3,
     "metadata": {},
     "output_type": "execute_result"
    }
   ],
   "source": [
    "from mitzu import *\n",
    "sample_data_source = EventDataSource(        \n",
    "    connection=Connection(\n",
    "        connection_type=ConnectionType.FILE,\n",
    "        connection_params={\"file_type\": \"parquet\"},\n",
    "        url=\"/work/simple_big_data.snappy.parquet\",\n",
    "    ),\n",
    ")\n",
    "\n",
    "init_notebook_project(sample_data_source)"
   ]
  },
  {
   "cell_type": "code",
   "execution_count": 6,
   "metadata": {
    "cell_id": "351edd90-4d45-4438-8748-236b078731b1",
    "deepnote_cell_height": 801,
    "deepnote_cell_type": "code",
    "deepnote_output_heights": [
     527,
     2
    ],
    "deepnote_to_be_reexecuted": false,
    "execution_millis": 811,
    "execution_start": 1647768733588,
    "source_hash": "39f173af",
    "tags": []
   },
   "outputs": [
    {
     "data": {
      "text/html": [
       "<html>\n",
       "<head><meta charset=\"utf-8\" /></head>\n",
       "<body>\n",
       "    <div>            <script src=\"https://cdnjs.cloudflare.com/ajax/libs/mathjax/2.7.5/MathJax.js?config=TeX-AMS-MML_SVG\"></script><script type=\"text/javascript\">if (window.MathJax) {MathJax.Hub.Config({SVG: {font: \"STIX-Web\"}});}</script>                <script type=\"text/javascript\">window.PlotlyConfig = {MathJaxConfig: 'local'};</script>\n",
       "        <script src=\"https://cdn.plot.ly/plotly-2.9.0.min.js\"></script>                <div id=\"530fc635-8732-4ad1-a4e3-a7dbfb6db513\" class=\"plotly-graph-div\" style=\"height:525px; width:100%;\"></div>            <script type=\"text/javascript\">                                    window.PLOTLYENV=window.PLOTLYENV || {};                                    if (document.getElementById(\"530fc635-8732-4ad1-a4e3-a7dbfb6db513\")) {                    Plotly.newPlot(                        \"530fc635-8732-4ad1-a4e3-a7dbfb6db513\",                        [{\"customdata\":[[48,9,55,9,\"iOS\"],[49,14,52,14,\"iOS\"],[56,8,63,8,\"iOS\"],[64,11,71,11,\"iOS\"],[48,13,53,13,\"iOS\"],[59,15,63,15,\"iOS\"],[53,7,54,7,\"iOS\"],[48,9,51,9,\"iOS\"],[46,12,49,12,\"iOS\"],[48,11,53,11,\"iOS\"],[60,14,78,14,\"iOS\"],[58,11,67,11,\"iOS\"],[33,9,42,9,\"iOS\"],[54,11,65,11,\"iOS\"],[49,9,58,9,\"iOS\"],[53,6,72,6,\"iOS\"],[49,4,63,4,\"iOS\"],[53,3,60,3,\"iOS\"],[55,3,59,3,\"iOS\"],[56,4,63,4,\"iOS\"],[42,15,45,15,\"iOS\"],[43,4,47,4,\"iOS\"],[46,13,49,13,\"iOS\"],[46,6,58,6,\"iOS\"],[61,13,78,13,\"iOS\"],[44,7,57,7,\"iOS\"],[65,7,145,7,\"iOS\"],[69,15,113,15,\"iOS\"],[60,8,86,8,\"iOS\"],[69,13,90,13,\"iOS\"],[42,6,53,6,\"iOS\"]],\"hovertemplate\":\"<b>%{x}</b>\\n                    <br /><b>%{customdata[4]}</b>\\n                    <br />\\n                    <br />Conversion: <b>%{y}%</b>             \\n                    <br />Activated users:<b>%{customdata[0]}</b>                    \\n                    <br />Converted users: <b>%{customdata[1]}</b>\\n                    <br />\\n                    <br />Activated event count:<b>%{customdata[2]}</b>                    \\n                    <br />Converted event count:<b>%{customdata[3]}</b>                            \\n                    <extra></extra>\\n            \",\"legendgroup\":\"iOS\",\"line\":{\"color\":\"rgb(102, 197, 204)\",\"dash\":\"solid\",\"width\":3.5},\"marker\":{\"symbol\":\"circle\"},\"mode\":\"markers+lines+text\",\"name\":\"iOS\",\"orientation\":\"v\",\"showlegend\":true,\"text\":[18.75,28.57,14.29,17.19,27.08,25.42,13.21,18.75,26.09,22.92,23.33,18.97,27.27,20.37,18.37,11.32,8.16,5.66,5.45,7.14,35.71,9.3,28.26,13.04,21.31,15.91,10.77,21.74,13.33,18.84,14.29],\"x\":[\"2021-05-31T00:00:00\",\"2021-06-07T00:00:00\",\"2021-06-14T00:00:00\",\"2021-06-21T00:00:00\",\"2021-06-28T00:00:00\",\"2021-07-05T00:00:00\",\"2021-07-12T00:00:00\",\"2021-07-19T00:00:00\",\"2021-07-26T00:00:00\",\"2021-08-02T00:00:00\",\"2021-08-09T00:00:00\",\"2021-08-16T00:00:00\",\"2021-08-23T00:00:00\",\"2021-08-30T00:00:00\",\"2021-09-06T00:00:00\",\"2021-09-13T00:00:00\",\"2021-09-20T00:00:00\",\"2021-09-27T00:00:00\",\"2021-10-04T00:00:00\",\"2021-10-11T00:00:00\",\"2021-10-18T00:00:00\",\"2021-10-25T00:00:00\",\"2021-11-01T00:00:00\",\"2021-11-08T00:00:00\",\"2021-11-15T00:00:00\",\"2021-11-22T00:00:00\",\"2021-11-29T00:00:00\",\"2021-12-06T00:00:00\",\"2021-12-13T00:00:00\",\"2021-12-20T00:00:00\",\"2021-12-27T00:00:00\"],\"xaxis\":\"x\",\"y\":[18.75,28.57,14.29,17.19,27.08,25.42,13.21,18.75,26.09,22.92,23.33,18.97,27.27,20.37,18.37,11.32,8.16,5.66,5.45,7.14,35.71,9.3,28.26,13.04,21.31,15.91,10.77,21.74,13.33,18.84,14.29],\"yaxis\":\"y\",\"type\":\"scatter\",\"textfont\":{\"size\":9},\"textposition\":\"top center\"},{\"customdata\":[[69,15,72,15,\"macOS\"],[85,16,90,16,\"macOS\"],[65,12,69,12,\"macOS\"],[74,9,82,9,\"macOS\"],[62,8,68,8,\"macOS\"],[70,15,75,15,\"macOS\"],[64,11,69,11,\"macOS\"],[63,9,67,9,\"macOS\"],[73,10,78,10,\"macOS\"],[64,15,64,15,\"macOS\"],[66,11,69,11,\"macOS\"],[61,8,67,8,\"macOS\"],[73,10,75,10,\"macOS\"],[83,17,87,17,\"macOS\"],[71,11,72,11,\"macOS\"],[64,9,64,9,\"macOS\"],[59,11,65,11,\"macOS\"],[59,6,61,6,\"macOS\"],[53,6,56,6,\"macOS\"],[61,7,65,7,\"macOS\"],[68,9,71,9,\"macOS\"],[87,9,92,9,\"macOS\"],[98,9,104,9,\"macOS\"],[98,5,100,5,\"macOS\"],[85,10,88,10,\"macOS\"],[82,8,89,8,\"macOS\"],[74,8,78,8,\"macOS\"],[90,9,99,9,\"macOS\"],[77,9,81,10,\"macOS\"],[80,7,86,7,\"macOS\"],[68,5,70,5,\"macOS\"]],\"hovertemplate\":\"<b>%{x}</b>\\n                    <br /><b>%{customdata[4]}</b>\\n                    <br />\\n                    <br />Conversion: <b>%{y}%</b>             \\n                    <br />Activated users:<b>%{customdata[0]}</b>                    \\n                    <br />Converted users: <b>%{customdata[1]}</b>\\n                    <br />\\n                    <br />Activated event count:<b>%{customdata[2]}</b>                    \\n                    <br />Converted event count:<b>%{customdata[3]}</b>                            \\n                    <extra></extra>\\n            \",\"legendgroup\":\"macOS\",\"line\":{\"color\":\"rgb(246, 207, 113)\",\"dash\":\"solid\",\"width\":3.5},\"marker\":{\"symbol\":\"circle\"},\"mode\":\"markers+lines+text\",\"name\":\"macOS\",\"orientation\":\"v\",\"showlegend\":true,\"text\":[21.74,18.82,18.46,12.16,12.9,21.43,17.19,14.29,13.7,23.44,16.67,13.11,13.7,20.48,15.49,14.06,18.64,10.17,11.32,11.48,13.24,10.34,9.18,5.1,11.76,9.76,10.81,10.0,11.69,8.75,7.35],\"x\":[\"2021-05-31T00:00:00\",\"2021-06-07T00:00:00\",\"2021-06-14T00:00:00\",\"2021-06-21T00:00:00\",\"2021-06-28T00:00:00\",\"2021-07-05T00:00:00\",\"2021-07-12T00:00:00\",\"2021-07-19T00:00:00\",\"2021-07-26T00:00:00\",\"2021-08-02T00:00:00\",\"2021-08-09T00:00:00\",\"2021-08-16T00:00:00\",\"2021-08-23T00:00:00\",\"2021-08-30T00:00:00\",\"2021-09-06T00:00:00\",\"2021-09-13T00:00:00\",\"2021-09-20T00:00:00\",\"2021-09-27T00:00:00\",\"2021-10-04T00:00:00\",\"2021-10-11T00:00:00\",\"2021-10-18T00:00:00\",\"2021-10-25T00:00:00\",\"2021-11-01T00:00:00\",\"2021-11-08T00:00:00\",\"2021-11-15T00:00:00\",\"2021-11-22T00:00:00\",\"2021-11-29T00:00:00\",\"2021-12-06T00:00:00\",\"2021-12-13T00:00:00\",\"2021-12-20T00:00:00\",\"2021-12-27T00:00:00\"],\"xaxis\":\"x\",\"y\":[21.74,18.82,18.46,12.16,12.9,21.43,17.19,14.29,13.7,23.44,16.67,13.11,13.7,20.48,15.49,14.06,18.64,10.17,11.32,11.48,13.24,10.34,9.18,5.1,11.76,9.76,10.81,10.0,11.69,8.75,7.35],\"yaxis\":\"y\",\"type\":\"scatter\",\"textfont\":{\"size\":9},\"textposition\":\"top center\"}],                        {\"template\":{\"data\":{\"bar\":[{\"error_x\":{\"color\":\"#2a3f5f\"},\"error_y\":{\"color\":\"#2a3f5f\"},\"marker\":{\"line\":{\"color\":\"#E5ECF6\",\"width\":0.5},\"pattern\":{\"fillmode\":\"overlay\",\"size\":10,\"solidity\":0.2}},\"type\":\"bar\"}],\"barpolar\":[{\"marker\":{\"line\":{\"color\":\"#E5ECF6\",\"width\":0.5},\"pattern\":{\"fillmode\":\"overlay\",\"size\":10,\"solidity\":0.2}},\"type\":\"barpolar\"}],\"carpet\":[{\"aaxis\":{\"endlinecolor\":\"#2a3f5f\",\"gridcolor\":\"white\",\"linecolor\":\"white\",\"minorgridcolor\":\"white\",\"startlinecolor\":\"#2a3f5f\"},\"baxis\":{\"endlinecolor\":\"#2a3f5f\",\"gridcolor\":\"white\",\"linecolor\":\"white\",\"minorgridcolor\":\"white\",\"startlinecolor\":\"#2a3f5f\"},\"type\":\"carpet\"}],\"choropleth\":[{\"colorbar\":{\"outlinewidth\":0,\"ticks\":\"\"},\"type\":\"choropleth\"}],\"contour\":[{\"colorbar\":{\"outlinewidth\":0,\"ticks\":\"\"},\"colorscale\":[[0.0,\"#0d0887\"],[0.1111111111111111,\"#46039f\"],[0.2222222222222222,\"#7201a8\"],[0.3333333333333333,\"#9c179e\"],[0.4444444444444444,\"#bd3786\"],[0.5555555555555556,\"#d8576b\"],[0.6666666666666666,\"#ed7953\"],[0.7777777777777778,\"#fb9f3a\"],[0.8888888888888888,\"#fdca26\"],[1.0,\"#f0f921\"]],\"type\":\"contour\"}],\"contourcarpet\":[{\"colorbar\":{\"outlinewidth\":0,\"ticks\":\"\"},\"type\":\"contourcarpet\"}],\"heatmap\":[{\"colorbar\":{\"outlinewidth\":0,\"ticks\":\"\"},\"colorscale\":[[0.0,\"#0d0887\"],[0.1111111111111111,\"#46039f\"],[0.2222222222222222,\"#7201a8\"],[0.3333333333333333,\"#9c179e\"],[0.4444444444444444,\"#bd3786\"],[0.5555555555555556,\"#d8576b\"],[0.6666666666666666,\"#ed7953\"],[0.7777777777777778,\"#fb9f3a\"],[0.8888888888888888,\"#fdca26\"],[1.0,\"#f0f921\"]],\"type\":\"heatmap\"}],\"heatmapgl\":[{\"colorbar\":{\"outlinewidth\":0,\"ticks\":\"\"},\"colorscale\":[[0.0,\"#0d0887\"],[0.1111111111111111,\"#46039f\"],[0.2222222222222222,\"#7201a8\"],[0.3333333333333333,\"#9c179e\"],[0.4444444444444444,\"#bd3786\"],[0.5555555555555556,\"#d8576b\"],[0.6666666666666666,\"#ed7953\"],[0.7777777777777778,\"#fb9f3a\"],[0.8888888888888888,\"#fdca26\"],[1.0,\"#f0f921\"]],\"type\":\"heatmapgl\"}],\"histogram\":[{\"marker\":{\"pattern\":{\"fillmode\":\"overlay\",\"size\":10,\"solidity\":0.2}},\"type\":\"histogram\"}],\"histogram2d\":[{\"colorbar\":{\"outlinewidth\":0,\"ticks\":\"\"},\"colorscale\":[[0.0,\"#0d0887\"],[0.1111111111111111,\"#46039f\"],[0.2222222222222222,\"#7201a8\"],[0.3333333333333333,\"#9c179e\"],[0.4444444444444444,\"#bd3786\"],[0.5555555555555556,\"#d8576b\"],[0.6666666666666666,\"#ed7953\"],[0.7777777777777778,\"#fb9f3a\"],[0.8888888888888888,\"#fdca26\"],[1.0,\"#f0f921\"]],\"type\":\"histogram2d\"}],\"histogram2dcontour\":[{\"colorbar\":{\"outlinewidth\":0,\"ticks\":\"\"},\"colorscale\":[[0.0,\"#0d0887\"],[0.1111111111111111,\"#46039f\"],[0.2222222222222222,\"#7201a8\"],[0.3333333333333333,\"#9c179e\"],[0.4444444444444444,\"#bd3786\"],[0.5555555555555556,\"#d8576b\"],[0.6666666666666666,\"#ed7953\"],[0.7777777777777778,\"#fb9f3a\"],[0.8888888888888888,\"#fdca26\"],[1.0,\"#f0f921\"]],\"type\":\"histogram2dcontour\"}],\"mesh3d\":[{\"colorbar\":{\"outlinewidth\":0,\"ticks\":\"\"},\"type\":\"mesh3d\"}],\"parcoords\":[{\"line\":{\"colorbar\":{\"outlinewidth\":0,\"ticks\":\"\"}},\"type\":\"parcoords\"}],\"pie\":[{\"automargin\":true,\"type\":\"pie\"}],\"scatter\":[{\"marker\":{\"colorbar\":{\"outlinewidth\":0,\"ticks\":\"\"}},\"type\":\"scatter\"}],\"scatter3d\":[{\"line\":{\"colorbar\":{\"outlinewidth\":0,\"ticks\":\"\"}},\"marker\":{\"colorbar\":{\"outlinewidth\":0,\"ticks\":\"\"}},\"type\":\"scatter3d\"}],\"scattercarpet\":[{\"marker\":{\"colorbar\":{\"outlinewidth\":0,\"ticks\":\"\"}},\"type\":\"scattercarpet\"}],\"scattergeo\":[{\"marker\":{\"colorbar\":{\"outlinewidth\":0,\"ticks\":\"\"}},\"type\":\"scattergeo\"}],\"scattergl\":[{\"marker\":{\"colorbar\":{\"outlinewidth\":0,\"ticks\":\"\"}},\"type\":\"scattergl\"}],\"scattermapbox\":[{\"marker\":{\"colorbar\":{\"outlinewidth\":0,\"ticks\":\"\"}},\"type\":\"scattermapbox\"}],\"scatterpolar\":[{\"marker\":{\"colorbar\":{\"outlinewidth\":0,\"ticks\":\"\"}},\"type\":\"scatterpolar\"}],\"scatterpolargl\":[{\"marker\":{\"colorbar\":{\"outlinewidth\":0,\"ticks\":\"\"}},\"type\":\"scatterpolargl\"}],\"scatterternary\":[{\"marker\":{\"colorbar\":{\"outlinewidth\":0,\"ticks\":\"\"}},\"type\":\"scatterternary\"}],\"surface\":[{\"colorbar\":{\"outlinewidth\":0,\"ticks\":\"\"},\"colorscale\":[[0.0,\"#0d0887\"],[0.1111111111111111,\"#46039f\"],[0.2222222222222222,\"#7201a8\"],[0.3333333333333333,\"#9c179e\"],[0.4444444444444444,\"#bd3786\"],[0.5555555555555556,\"#d8576b\"],[0.6666666666666666,\"#ed7953\"],[0.7777777777777778,\"#fb9f3a\"],[0.8888888888888888,\"#fdca26\"],[1.0,\"#f0f921\"]],\"type\":\"surface\"}],\"table\":[{\"cells\":{\"fill\":{\"color\":\"#EBF0F8\"},\"line\":{\"color\":\"white\"}},\"header\":{\"fill\":{\"color\":\"#C8D4E3\"},\"line\":{\"color\":\"white\"}},\"type\":\"table\"}]},\"layout\":{\"annotationdefaults\":{\"arrowcolor\":\"#2a3f5f\",\"arrowhead\":0,\"arrowwidth\":1},\"autotypenumbers\":\"strict\",\"coloraxis\":{\"colorbar\":{\"outlinewidth\":0,\"ticks\":\"\"}},\"colorscale\":{\"diverging\":[[0,\"#8e0152\"],[0.1,\"#c51b7d\"],[0.2,\"#de77ae\"],[0.3,\"#f1b6da\"],[0.4,\"#fde0ef\"],[0.5,\"#f7f7f7\"],[0.6,\"#e6f5d0\"],[0.7,\"#b8e186\"],[0.8,\"#7fbc41\"],[0.9,\"#4d9221\"],[1,\"#276419\"]],\"sequential\":[[0.0,\"#0d0887\"],[0.1111111111111111,\"#46039f\"],[0.2222222222222222,\"#7201a8\"],[0.3333333333333333,\"#9c179e\"],[0.4444444444444444,\"#bd3786\"],[0.5555555555555556,\"#d8576b\"],[0.6666666666666666,\"#ed7953\"],[0.7777777777777778,\"#fb9f3a\"],[0.8888888888888888,\"#fdca26\"],[1.0,\"#f0f921\"]],\"sequentialminus\":[[0.0,\"#0d0887\"],[0.1111111111111111,\"#46039f\"],[0.2222222222222222,\"#7201a8\"],[0.3333333333333333,\"#9c179e\"],[0.4444444444444444,\"#bd3786\"],[0.5555555555555556,\"#d8576b\"],[0.6666666666666666,\"#ed7953\"],[0.7777777777777778,\"#fb9f3a\"],[0.8888888888888888,\"#fdca26\"],[1.0,\"#f0f921\"]]},\"colorway\":[\"#636efa\",\"#EF553B\",\"#00cc96\",\"#ab63fa\",\"#FFA15A\",\"#19d3f3\",\"#FF6692\",\"#B6E880\",\"#FF97FF\",\"#FECB52\"],\"font\":{\"color\":\"#2a3f5f\"},\"geo\":{\"bgcolor\":\"white\",\"lakecolor\":\"white\",\"landcolor\":\"#E5ECF6\",\"showlakes\":true,\"showland\":true,\"subunitcolor\":\"white\"},\"hoverlabel\":{\"align\":\"left\"},\"hovermode\":\"closest\",\"mapbox\":{\"style\":\"light\"},\"paper_bgcolor\":\"white\",\"plot_bgcolor\":\"#E5ECF6\",\"polar\":{\"angularaxis\":{\"gridcolor\":\"white\",\"linecolor\":\"white\",\"ticks\":\"\"},\"bgcolor\":\"#E5ECF6\",\"radialaxis\":{\"gridcolor\":\"white\",\"linecolor\":\"white\",\"ticks\":\"\"}},\"scene\":{\"xaxis\":{\"backgroundcolor\":\"#E5ECF6\",\"gridcolor\":\"white\",\"gridwidth\":2,\"linecolor\":\"white\",\"showbackground\":true,\"ticks\":\"\",\"zerolinecolor\":\"white\"},\"yaxis\":{\"backgroundcolor\":\"#E5ECF6\",\"gridcolor\":\"white\",\"gridwidth\":2,\"linecolor\":\"white\",\"showbackground\":true,\"ticks\":\"\",\"zerolinecolor\":\"white\"},\"zaxis\":{\"backgroundcolor\":\"#E5ECF6\",\"gridcolor\":\"white\",\"gridwidth\":2,\"linecolor\":\"white\",\"showbackground\":true,\"ticks\":\"\",\"zerolinecolor\":\"white\"}},\"shapedefaults\":{\"line\":{\"color\":\"#2a3f5f\"}},\"ternary\":{\"aaxis\":{\"gridcolor\":\"white\",\"linecolor\":\"white\",\"ticks\":\"\"},\"baxis\":{\"gridcolor\":\"white\",\"linecolor\":\"white\",\"ticks\":\"\"},\"bgcolor\":\"#E5ECF6\",\"caxis\":{\"gridcolor\":\"white\",\"linecolor\":\"white\",\"ticks\":\"\"}},\"title\":{\"x\":0.05},\"xaxis\":{\"automargin\":true,\"gridcolor\":\"white\",\"linecolor\":\"white\",\"ticks\":\"\",\"title\":{\"standoff\":15},\"zerolinecolor\":\"white\",\"zerolinewidth\":2},\"yaxis\":{\"automargin\":true,\"gridcolor\":\"white\",\"linecolor\":\"white\",\"ticks\":\"\",\"title\":{\"standoff\":15},\"zerolinecolor\":\"white\",\"zerolinewidth\":2}}},\"xaxis\":{\"anchor\":\"y\",\"domain\":[0.0,1.0],\"title\":{\"text\":\"Weekly conversion rate of unique users<br />who did <b>app_install with device_platform != Windows</b> then did <b>user_signed_up</b><br />within 7 day segmented by <b>device_platform</b> (top 10)\"}},\"yaxis\":{\"anchor\":\"x\",\"domain\":[0.0,1.0],\"title\":{\"text\":\"Conversion\"},\"rangemode\":\"tozero\"},\"legend\":{\"title\":{\"text\":\"group\"},\"tracegroupgap\":0},\"margin\":{\"t\":5,\"l\":5,\"r\":5,\"b\":15,\"pad\":1},\"uniformtext\":{\"minsize\":8,\"mode\":\"hide\"},\"hoverlabel\":{\"font\":{\"size\":12}},\"autosize\":true,\"bargap\":0.3,\"bargroupgap\":0.15,\"hovermode\":\"closest\"},                        {\"responsive\": true}                    ).then(function(){\n",
       "                            \n",
       "var gd = document.getElementById('530fc635-8732-4ad1-a4e3-a7dbfb6db513');\n",
       "var x = new MutationObserver(function (mutations, observer) {{\n",
       "        var display = window.getComputedStyle(gd).display;\n",
       "        if (!display || display === 'none') {{\n",
       "            console.log([gd, 'removed!']);\n",
       "            Plotly.purge(gd);\n",
       "            observer.disconnect();\n",
       "        }}\n",
       "}});\n",
       "\n",
       "// Listen for the removal of the full notebook cells\n",
       "var notebookContainer = gd.closest('#notebook-container');\n",
       "if (notebookContainer) {{\n",
       "    x.observe(notebookContainer, {childList: true});\n",
       "}}\n",
       "\n",
       "// Listen for the clearing of the current output cell\n",
       "var outputEl = gd.closest('.output');\n",
       "if (outputEl) {{\n",
       "    x.observe(outputEl, {childList: true});\n",
       "}}\n",
       "\n",
       "                        })                };                            </script>        </div>\n",
       "</body>\n",
       "</html>"
      ]
     },
     "metadata": {},
     "output_type": "display_data"
    },
    {
     "data": {
      "text/plain": []
     },
     "execution_count": 6,
     "metadata": {},
     "output_type": "execute_result"
    }
   ],
   "source": [
    "(\n",
    "    ((app_install.device_platform != \"Windows\") >> user_signed_up).config(\n",
    "        conv_window=\"7 day\",\n",
    "        start_dt=\"2021-01-01\",\n",
    "        time_group=\"week\",\n",
    "        group_by=app_install.device_platform,\n",
    "    )\n",
    ")\n"
   ]
  },
  {
   "cell_type": "code",
   "execution_count": null,
   "metadata": {
    "cell_id": "36d72bae-577a-4129-ad53-c6552f716241",
    "deepnote_cell_height": 66,
    "deepnote_cell_type": "code",
    "tags": []
   },
   "outputs": [],
   "source": []
  },
  {
   "cell_type": "markdown",
   "metadata": {
    "created_in_deepnote_cell": true,
    "deepnote_cell_type": "markdown",
    "tags": []
   },
   "source": [
    "<a style='text-decoration:none;line-height:16px;display:flex;color:#5B5B62;padding:10px;justify-content:end;' href='https://deepnote.com?utm_source=created-in-deepnote-cell&projectId=c7418232-27fd-4df2-9a47-8466e0bb8d37' target=\"_blank\">\n",
    "<img alt='Created in deepnote.com' style='display:inline;max-height:16px;margin:0px;margin-right:7.5px;' src='data:image/svg+xml;base64,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' > </img>\n",
    "Created in <span style='font-weight:600;margin-left:4px;'>Deepnote</span></a>"
   ]
  }
 ],
 "metadata": {
  "deepnote": {},
  "deepnote_execution_queue": [],
  "deepnote_notebook_id": "9586b514-9e93-4e25-a547-724a59229af0",
  "kernelspec": {
   "display_name": "Python 3 (ipykernel)",
   "language": "python",
   "name": "python3"
  },
  "language_info": {
   "codemirror_mode": {
    "name": "ipython",
    "version": 3
   },
   "file_extension": ".py",
   "mimetype": "text/x-python",
   "name": "python",
   "nbconvert_exporter": "python",
   "pygments_lexer": "ipython3",
   "version": "3.10.2"
  }
 },
 "nbformat": 4,
 "nbformat_minor": 5
}
