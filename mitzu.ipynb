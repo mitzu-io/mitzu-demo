{
 "cells": [
  {
   "cell_type": "code",
   "execution_count": 2,
   "id": "28fe18df",
   "metadata": {
    "ExecuteTime": {
     "end_time": "2022-03-15T20:41:43.860855Z",
     "start_time": "2022-03-15T20:41:43.857544Z"
    }
   },
   "outputs": [
    {
     "name": "stdout",
     "output_type": "stream",
     "text": [
      "It's another beatiful day to be Rogelio\n"
     ]
    }
   ],
   "source": [
    "print(\"It's another beatiful day to be Rogelio\")"
   ]
  }
 ],
 "metadata": {
  "kernelspec": {
   "display_name": "Python 3 (ipykernel)",
   "language": "python",
   "name": "python3"
  },
  "language_info": {
   "codemirror_mode": {
    "name": "ipython",
    "version": 3
   },
   "file_extension": ".py",
   "mimetype": "text/x-python",
   "name": "python",
   "nbconvert_exporter": "python",
   "pygments_lexer": "ipython3",
   "version": "3.10.2"
  }
 },
 "nbformat": 4,
 "nbformat_minor": 5
}
